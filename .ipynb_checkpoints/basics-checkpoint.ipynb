{
 "cells": [
  {
   "cell_type": "code",
   "execution_count": 1,
   "id": "00ea4980",
   "metadata": {},
   "outputs": [],
   "source": [
    "import numpy as np"
   ]
  },
  {
   "cell_type": "code",
   "execution_count": 2,
   "id": "8ac06bfe",
   "metadata": {},
   "outputs": [],
   "source": [
    "a = np.empty([2,3]) # returns empty (equivaluent to zero but non zeros) matrix"
   ]
  },
  {
   "cell_type": "code",
   "execution_count": 3,
   "id": "e86f7a96",
   "metadata": {},
   "outputs": [
    {
     "data": {
      "text/plain": [
       "array([[4.65878421e-310, 0.00000000e+000, 0.00000000e+000],\n",
       "       [0.00000000e+000, 0.00000000e+000, 0.00000000e+000]])"
      ]
     },
     "execution_count": 3,
     "metadata": {},
     "output_type": "execute_result"
    }
   ],
   "source": [
    "b = np.empty([2,3])\n",
    "b"
   ]
  },
  {
   "cell_type": "code",
   "execution_count": 4,
   "id": "afd08c70",
   "metadata": {},
   "outputs": [
    {
     "data": {
      "text/plain": [
       "array([[4.65878420e-310, 0.00000000e+000, 1.29642538e-303],\n",
       "       [1.27613271e-303, 1.10239897e-303, 9.13612397e+242],\n",
       "       [4.65878421e-310, 0.00000000e+000, 0.00000000e+000],\n",
       "       [0.00000000e+000, 0.00000000e+000, 0.00000000e+000]])"
      ]
     },
     "execution_count": 4,
     "metadata": {},
     "output_type": "execute_result"
    }
   ],
   "source": [
    "ab = np.concatenate((a, b))\n",
    "ab"
   ]
  },
  {
   "cell_type": "code",
   "execution_count": 5,
   "id": "414c625c",
   "metadata": {},
   "outputs": [
    {
     "data": {
      "text/plain": [
       "2"
      ]
     },
     "execution_count": 5,
     "metadata": {},
     "output_type": "execute_result"
    }
   ],
   "source": [
    "ab.ndim # number of axes (X or dimension)"
   ]
  },
  {
   "cell_type": "code",
   "execution_count": 6,
   "id": "d366eff3",
   "metadata": {},
   "outputs": [
    {
     "data": {
      "text/plain": [
       "array([[4.65878420e-310, 0.00000000e+000, 1.29642538e-303],\n",
       "       [1.27613271e-303, 1.10239897e-303, 9.13612397e+242],\n",
       "       [4.65878421e-310, 0.00000000e+000, 0.00000000e+000],\n",
       "       [0.00000000e+000, 0.00000000e+000, 0.00000000e+000]])"
      ]
     },
     "execution_count": 6,
     "metadata": {},
     "output_type": "execute_result"
    }
   ],
   "source": [
    "ab # a X b (must have same dim)"
   ]
  },
  {
   "cell_type": "code",
   "execution_count": 7,
   "id": "c7cfc10c",
   "metadata": {},
   "outputs": [
    {
     "data": {
      "text/plain": [
       "array([1, 3, 5, 7, 9])"
      ]
     },
     "execution_count": 7,
     "metadata": {},
     "output_type": "execute_result"
    }
   ],
   "source": [
    "np.arange(1, 10, 2) # similar to python range"
   ]
  },
  {
   "cell_type": "code",
   "execution_count": 8,
   "id": "61dc688f",
   "metadata": {},
   "outputs": [
    {
     "data": {
      "text/plain": [
       "array([ 1.  ,  3.25,  5.5 ,  7.75, 10.  ])"
      ]
     },
     "execution_count": 8,
     "metadata": {},
     "output_type": "execute_result"
    }
   ],
   "source": [
    "np.linspace(1, 10, num=5) # Values that are spaced linearly in num interval"
   ]
  },
  {
   "cell_type": "code",
   "execution_count": 9,
   "id": "f861de6b",
   "metadata": {},
   "outputs": [
    {
     "data": {
      "text/plain": [
       "array([[1, 1],\n",
       "       [1, 1]], dtype=int32)"
      ]
     },
     "execution_count": 9,
     "metadata": {},
     "output_type": "execute_result"
    }
   ],
   "source": [
    "np.ones((2,2), dtype=np.int32) # specify datatype"
   ]
  },
  {
   "cell_type": "code",
   "execution_count": 10,
   "id": "c2f60477",
   "metadata": {},
   "outputs": [
    {
     "data": {
      "text/plain": [
       "array([0, 1, 2, 5, 7, 8, 9, 9])"
      ]
     },
     "execution_count": 10,
     "metadata": {},
     "output_type": "execute_result"
    }
   ],
   "source": [
    "arry = [5,2,7,8,9,1,9,0]\n",
    "np.sort(arry) # sorting"
   ]
  },
  {
   "cell_type": "markdown",
   "id": "0539c48b",
   "metadata": {},
   "source": [
    "`np.argsort(arry, axis=1, kind=None, order=None)`\n",
    "\n",
    "- `argsort`, which is an indirect sort along a specified axis,\n",
    "-`lexsort`, which is an indirect stable sort on multiple keys,\n",
    "-`searchsorted`, which will find elements in a sorted array, and\n",
    "-`partition`, which is a partial sort."
   ]
  },
  {
   "cell_type": "code",
   "execution_count": 11,
   "id": "1cf3c97b",
   "metadata": {},
   "outputs": [],
   "source": [
    "ex = np.array([[\n",
    "        [0, 1, 2, 3],\n",
    "        [4, 5, 6, 7]\n",
    "               ],\n",
    "                [\n",
    "                 [0, 1, 2, 3],\n",
    "                 [4, 5, 6, 7]\n",
    "                ],\n",
    "                [\n",
    "                    [0 ,1 ,2, 3],\n",
    "                    [4, 5, 6, 7]\n",
    "                ]\n",
    "              ])"
   ]
  },
  {
   "cell_type": "code",
   "execution_count": 12,
   "id": "97bb1886",
   "metadata": {},
   "outputs": [
    {
     "data": {
      "text/plain": [
       "3"
      ]
     },
     "execution_count": 12,
     "metadata": {},
     "output_type": "execute_result"
    }
   ],
   "source": [
    "ex.ndim # dimnesion"
   ]
  },
  {
   "cell_type": "code",
   "execution_count": 13,
   "id": "59e4ca67",
   "metadata": {},
   "outputs": [
    {
     "data": {
      "text/plain": [
       "24"
      ]
     },
     "execution_count": 13,
     "metadata": {},
     "output_type": "execute_result"
    }
   ],
   "source": [
    "ex.size # total number of elements in an array"
   ]
  },
  {
   "cell_type": "code",
   "execution_count": 14,
   "id": "ff8209e4",
   "metadata": {},
   "outputs": [
    {
     "data": {
      "text/plain": [
       "(3, 2, 4)"
      ]
     },
     "execution_count": 14,
     "metadata": {},
     "output_type": "execute_result"
    }
   ],
   "source": [
    "ex.shape # shape of an array (z, y, x)"
   ]
  },
  {
   "cell_type": "markdown",
   "id": "b395af7d",
   "metadata": {},
   "source": [
    "**Reshaping an array**"
   ]
  },
  {
   "cell_type": "code",
   "execution_count": 15,
   "id": "e71c6adc",
   "metadata": {},
   "outputs": [],
   "source": [
    "\n",
    "a = np.arange(0,27)"
   ]
  },
  {
   "cell_type": "code",
   "execution_count": 16,
   "id": "61cc3b23",
   "metadata": {},
   "outputs": [
    {
     "data": {
      "text/plain": [
       "array([[[ 0,  1,  2],\n",
       "        [ 3,  4,  5],\n",
       "        [ 6,  7,  8]],\n",
       "\n",
       "       [[ 9, 10, 11],\n",
       "        [12, 13, 14],\n",
       "        [15, 16, 17]],\n",
       "\n",
       "       [[18, 19, 20],\n",
       "        [21, 22, 23],\n",
       "        [24, 25, 26]]])"
      ]
     },
     "execution_count": 16,
     "metadata": {},
     "output_type": "execute_result"
    }
   ],
   "source": [
    "a.reshape(3,3, 3) # reshaping into x, y, z"
   ]
  },
  {
   "cell_type": "markdown",
   "id": "c36059c0",
   "metadata": {},
   "source": [
    "**Adding new axis to array**"
   ]
  },
  {
   "cell_type": "code",
   "execution_count": 28,
   "id": "cfb495f8",
   "metadata": {},
   "outputs": [
    {
     "data": {
      "text/plain": [
       "1"
      ]
     },
     "execution_count": 28,
     "metadata": {},
     "output_type": "execute_result"
    }
   ],
   "source": [
    "a = np.array([1, 2, 3, 4, 5, 6])\n",
    "a.ndim"
   ]
  },
  {
   "cell_type": "code",
   "execution_count": 31,
   "id": "d1889632",
   "metadata": {},
   "outputs": [
    {
     "name": "stdout",
     "output_type": "stream",
     "text": [
      "a2 = [[1 2 3 4 5 6]] ndim 2 (1, 6)\n",
      "a3 = [[1]\n",
      " [2]\n",
      " [3]\n",
      " [4]\n",
      " [5]\n",
      " [6]] ndim 2 (6, 1)\n"
     ]
    }
   ],
   "source": [
    "a2 = a[np.newaxis, :] # row vector\n",
    "print(\"a2 =\", a2, \"ndim\", a2.ndim, a2.shape)\n",
    "a3 = a[:, np.newaxis] # col vector\n",
    "print(\"a3 =\", a3, \"ndim\", a3.ndim, a3.shape)"
   ]
  },
  {
   "cell_type": "code",
   "execution_count": 32,
   "id": "1013ebb4",
   "metadata": {},
   "outputs": [
    {
     "name": "stdout",
     "output_type": "stream",
     "text": [
      "a4 = [[1]\n",
      " [2]\n",
      " [3]\n",
      " [4]\n",
      " [5]\n",
      " [6]]\n",
      "a5 = [[1 2 3 4 5 6]]\n"
     ]
    }
   ],
   "source": [
    "a4 = np.expand_dims(a, axis=1)\n",
    "print(\"a4 =\", a4, a4.shape)\n",
    "a5 = np.expand_dims(a, axis=0)\n",
    "print(\"a5 =\", a5, a5.shape)"
   ]
  },
  {
   "cell_type": "markdown",
   "id": "83cfbf8c",
   "metadata": {},
   "source": [
    "**Indexing and Slicing**"
   ]
  },
  {
   "cell_type": "code",
   "execution_count": 20,
   "id": "98b2db73",
   "metadata": {},
   "outputs": [],
   "source": [
    "data = np.array([1, 2, 3, 4])"
   ]
  },
  {
   "cell_type": "code",
   "execution_count": 21,
   "id": "e9442a8a",
   "metadata": {},
   "outputs": [
    {
     "data": {
      "text/plain": [
       "array([3, 4])"
      ]
     },
     "execution_count": 21,
     "metadata": {},
     "output_type": "execute_result"
    }
   ],
   "source": [
    "# support python indexing and slicing\n",
    "data[1]\n",
    "data[0:2]\n",
    "data[1:]\n",
    "data[2:3]\n",
    "data[-2:]"
   ]
  },
  {
   "cell_type": "code",
   "execution_count": 22,
   "id": "beca89f7",
   "metadata": {},
   "outputs": [],
   "source": [
    "a = np.array([[1 , 2, 3, 4], [5, 6, 7, 8], [9, 10, 11, 12]])"
   ]
  },
  {
   "cell_type": "markdown",
   "id": "d9747896",
   "metadata": {},
   "source": [
    "**Analysis**"
   ]
  },
  {
   "cell_type": "code",
   "execution_count": 23,
   "id": "ee37011a",
   "metadata": {},
   "outputs": [
    {
     "name": "stdout",
     "output_type": "stream",
     "text": [
      "[1 2 3 4 5 6]\n",
      "[ 8  9 10 11 12]\n",
      "[ 3  4  5  6  7  8  9 10]\n",
      "[[False False False False]\n",
      " [False False False  True]\n",
      " [ True  True  True  True]]\n"
     ]
    }
   ],
   "source": [
    "print(a[a < 7]) # or any mathematical condition\n",
    "gt7 = (a > 7)\n",
    "print(a[gt7])\n",
    "c = a[(a > 2) & (a < 11)] # greater than 2 and less than 11\n",
    "print(c)\n",
    "\n",
    "# fulfill the condition?\n",
    "gt5 = (a > 5) | (a == 5)\n",
    "print(gt7)"
   ]
  },
  {
   "cell_type": "markdown",
   "id": "33cf9ba9",
   "metadata": {},
   "source": [
    "### Revision "
   ]
  },
  {
   "cell_type": "code",
   "execution_count": 24,
   "id": "98268d05",
   "metadata": {},
   "outputs": [
    {
     "name": "stdout",
     "output_type": "stream",
     "text": [
      "[ 7 16 19 18  8 15 12] | gt_5\n",
      "[3 1 4] | lt_5\n",
      "[16 18  8  4 12] | div_2\n",
      "[ 3  1 16 18  8  4 12] | div_2 | lt_5\n",
      "[ True False  True False False False False False  True False False]\n"
     ]
    }
   ],
   "source": [
    "pylist = [1,3,4,5,7,8,12,15,16,18,19]\n",
    "arr = np.array(pylist)\n",
    "np.random.shuffle(arr)\n",
    "gt_5 = arr > 5\n",
    "lt_5 = arr < 5\n",
    "div_2 = arr % 2 == 0\n",
    "print(arr[gt_5], \"| gt_5\")\n",
    "print(arr[lt_5], \"| lt_5\")\n",
    "print(arr[div_2], \"| div_2\")\n",
    "print(arr[div_2 | lt_5], \"| div_2 | lt_5\")\n",
    "print(lt_5)"
   ]
  },
  {
   "cell_type": "code",
   "execution_count": 25,
   "id": "9b7fd141",
   "metadata": {},
   "outputs": [
    {
     "name": "stdout",
     "output_type": "stream",
     "text": [
      "(array([0, 1, 2, 2]), array([2, 1, 0, 3])) \n",
      "Indices of elements that are less than 5\n",
      "\n",
      "[ 3  6  9 12]  --> Actual Elements.\n",
      "\n",
      "[(0, 2), (1, 1), (2, 0), (2, 3)] --> Cordinates\n",
      "\n",
      "(array([], dtype=int64), array([], dtype=int64)) \n",
      "If element does not exists.\n"
     ]
    }
   ],
   "source": [
    "# Using np.nonzero to find index of a <condition>\n",
    "a = np.array([[1, 2, 3, 4], [5, 6, 7, 8], [9, 10, 11, 12]])\n",
    "b = np.nonzero(a%3==0)\n",
    "print(b, \"\\nIndices of elements that are less than 5\\n\")\n",
    "\n",
    "print(a[b], \" --> Actual Elements.\\n\")\n",
    "\n",
    "cordinates = [(x, y) for x, y in zip(b[0], b[1])]\n",
    "print(cordinates, \"--> Cordinates\\n\")\n",
    "\n",
    "not_there = np.nonzero(a > 124)\n",
    "print(not_there, \"\\nIf element does not exists.\")"
   ]
  },
  {
   "cell_type": "markdown",
   "id": "e02414bf",
   "metadata": {},
   "source": [
    "## How to create array from existing data."
   ]
  },
  {
   "cell_type": "code",
   "execution_count": 26,
   "id": "736a1a66",
   "metadata": {},
   "outputs": [
    {
     "name": "stdout",
     "output_type": "stream",
     "text": [
      "[[15 32 11 35 31 24 20 46  8 45]\n",
      " [45 43 30 13 29 36  9 23  7 40]] \n",
      "Vertically stacked.\n",
      "\n",
      "\n",
      "[15 32 11 35 31 24 20 46  8 45 45 43 30 13 29 36  9 23  7 40] \n",
      "Horizontally stacked.\n",
      "\n",
      "\n",
      "[array([15, 32, 11, 35, 31]), array([24, 20, 46,  8, 45]), array([45, 43, 30, 13, 29]), array([36,  9, 23,  7, 40])] \n",
      "Splitted into 4 columns\n"
     ]
    }
   ],
   "source": [
    "arr = np.arange(1,50)\n",
    "np.random.shuffle(arr)\n",
    "a1 = arr[3:13]\n",
    "a2 = arr[12:22]\n",
    "## vertically stack\n",
    "vstacked = np.vstack((a1, a2))\n",
    "print(vstacked, \"\\nVertically stacked.\\n\\n\")\n",
    "\n",
    "hstacked = np.hstack((a1, a2))\n",
    "print(hstacked, \"\\nHorizontally stacked.\\n\\n\")\n",
    "\n",
    "hsplitted = np.hsplit(hstacked, 4)\n",
    "print(hsplitted, \"\\nSplitted into 4 columns\")"
   ]
  },
  {
   "cell_type": "code",
   "execution_count": null,
   "id": "f514e018",
   "metadata": {},
   "outputs": [],
   "source": []
  }
 ],
 "metadata": {
  "kernelspec": {
   "display_name": "Python 3 (ipykernel)",
   "language": "python",
   "name": "python3"
  },
  "language_info": {
   "codemirror_mode": {
    "name": "ipython",
    "version": 3
   },
   "file_extension": ".py",
   "mimetype": "text/x-python",
   "name": "python",
   "nbconvert_exporter": "python",
   "pygments_lexer": "ipython3",
   "version": "3.10.6"
  }
 },
 "nbformat": 4,
 "nbformat_minor": 5
}
