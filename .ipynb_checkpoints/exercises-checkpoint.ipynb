{
 "cells": [
  {
   "cell_type": "code",
   "execution_count": 1,
   "id": "6e9a590e",
   "metadata": {},
   "outputs": [],
   "source": [
    "import numpy as np\n"
   ]
  },
  {
   "cell_type": "code",
   "execution_count": 17,
   "id": "2ef0cf6f",
   "metadata": {},
   "outputs": [
    {
     "data": {
      "text/plain": [
       "array([45, 43, 93, 47, 63, 33, 99, 35, 55, 11])"
      ]
     },
     "execution_count": 17,
     "metadata": {},
     "output_type": "execute_result"
    }
   ],
   "source": [
    "# extract all odd numbers from array\n",
    "ar = np.array(np.random.randint(0, 100, 20))\n",
    "odd_cases = ar[ar%2!=0]\n",
    "odd_cases"
   ]
  },
  {
   "cell_type": "code",
   "execution_count": 42,
   "id": "acf60c21",
   "metadata": {},
   "outputs": [
    {
     "name": "stdout",
     "output_type": "stream",
     "text": [
      "[[ True  True  True]\n",
      " [ True  True  True]\n",
      " [ True  True  True]]\n"
     ]
    },
    {
     "data": {
      "text/plain": [
       "array([[ True,  True,  True],\n",
       "       [ True,  True,  True],\n",
       "       [ True,  True,  True]])"
      ]
     },
     "execution_count": 42,
     "metadata": {},
     "output_type": "execute_result"
    }
   ],
   "source": [
    "# Create a 3×3 numpy array of all True’s\n",
    "np.ones([3, 3], dtype=bool)\n",
    "np.full([3,3], True, dtype=bool)"
   ]
  },
  {
   "cell_type": "code",
   "execution_count": 103,
   "id": "c26a5904",
   "metadata": {},
   "outputs": [
    {
     "data": {
      "text/plain": [
       "array([99, 33, 18,  0,  0,  0, 64,  0, 53,  5])"
      ]
     },
     "execution_count": 103,
     "metadata": {},
     "output_type": "execute_result"
    }
   ],
   "source": [
    "# Replace all even numbers in arr with 0\n",
    "arr =  np.array(np.random.randint(0, 100, 10))\n",
    "case = arr%2==0\n",
    "arr[case] = 0\n",
    "arr\n",
    "\n",
    "# Replace all even numbers in arr with 0 without changing original array\n",
    "arr =  np.array(np.random.randint(0, 100, 10))\n",
    "new_arr = np.where(case, 0, arr)\n",
    "new_arr"
   ]
  },
  {
   "cell_type": "code",
   "execution_count": 131,
   "id": "3d1edac1",
   "metadata": {},
   "outputs": [
    {
     "data": {
      "text/plain": [
       "array([[0, 1, 2, 3, 4],\n",
       "       [5, 6, 7, 8, 9]])"
      ]
     },
     "execution_count": 131,
     "metadata": {},
     "output_type": "execute_result"
    }
   ],
   "source": [
    "# Convert a 1D array to a 2D array with 2 rows\n",
    "arr = np.arange(10)\n",
    "arr = np.vstack([arr, arr])\n",
    "\n",
    "# method II\n",
    "arr = np.arange(10)\n",
    "arr = arr.reshape(2,5) \n",
    "# arr.reshape(2, -1) # Setting -1 atomatically detects no. of cols.\n",
    "arr"
   ]
  },
  {
   "cell_type": "code",
   "execution_count": 141,
   "id": "dfd1228e",
   "metadata": {},
   "outputs": [
    {
     "data": {
      "text/plain": [
       "array([[0, 1, 2, 3, 4, 1, 1, 1, 1, 1],\n",
       "       [5, 6, 7, 8, 9, 1, 1, 1, 1, 1]])"
      ]
     },
     "execution_count": 141,
     "metadata": {},
     "output_type": "execute_result"
    }
   ],
   "source": [
    "# Q. Stack the arrays a and b horizontally.\n",
    "# Difficulty Level: L2\n",
    "\n",
    "arr = np.arange(10).reshape(2,-1)\n",
    "arr2 = np.repeat(1,10).reshape(2, -1)\n",
    "np.hstack([arr, arr2])"
   ]
  },
  {
   "cell_type": "code",
   "execution_count": 192,
   "id": "acd1029f",
   "metadata": {},
   "outputs": [
    {
     "data": {
      "text/plain": [
       "array([1, 1, 1, 2, 2, 2, 3, 3, 3, 1, 2, 3, 1, 2, 3, 1, 2, 3])"
      ]
     },
     "execution_count": 192,
     "metadata": {},
     "output_type": "execute_result"
    }
   ],
   "source": [
    "# Difficulty Level: L2\n",
    "# Q. Create the following pattern without hardcoding. Use only numpy functions and the below input array a\n",
    "# array([1, 1, 1, 2, 2, 2, 3, 3, 3, 1, 2, 3, 1, 2, 3, 1, 2, 3])\n",
    "\n",
    "a = np.array([1,2,3])\n",
    "vstacked = np.vstack([a, a, a])\n",
    "hstacked = np.hstack([a, a, a])\n",
    "arr = np.reshape(vstacked, -1, order=\"F\")\n",
    "np.concatenate([arr, hstacked])\n",
    "# Alternative\n",
    "np.concatenate([np.repeat(a, 3), np.tile(a, 3)])"
   ]
  },
  {
   "cell_type": "code",
   "execution_count": null,
   "id": "1395b7eb",
   "metadata": {},
   "outputs": [],
   "source": [
    "# Q. Get the common items between a and b L2\n",
    "a = np.array([1,2,3,2,3,4,3,4,5,6])\n",
    "b = np.array([7,2,10,2,7,4,9,4,9,8])"
   ]
  }
 ],
 "metadata": {
  "kernelspec": {
   "display_name": "Python 3 (ipykernel)",
   "language": "python",
   "name": "python3"
  },
  "language_info": {
   "codemirror_mode": {
    "name": "ipython",
    "version": 3
   },
   "file_extension": ".py",
   "mimetype": "text/x-python",
   "name": "python",
   "nbconvert_exporter": "python",
   "pygments_lexer": "ipython3",
   "version": "3.10.4"
  }
 },
 "nbformat": 4,
 "nbformat_minor": 5
}
